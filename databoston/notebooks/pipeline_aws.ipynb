{
 "cells": [
  {
   "cell_type": "markdown",
   "metadata": {},
   "source": [
    "### Link para acessar os datasets: https://data.boston.gov/dataset/311-service-requests"
   ]
  },
  {
   "cell_type": "markdown",
   "metadata": {},
   "source": [
    "#### Extraindo os dados do dataset"
   ]
  },
  {
   "cell_type": "code",
   "execution_count": 9,
   "metadata": {},
   "outputs": [],
   "source": [
    "import urllib.request\n",
    "import pandas as pd"
   ]
  },
  {
   "cell_type": "code",
   "execution_count": 10,
   "metadata": {},
   "outputs": [],
   "source": [
    "# Criando a função para extrair os dados do site e salvar em um arquivo\n",
    "\n",
    "def extract_data(url, filename):\n",
    "    try:\n",
    "        urllib.request.urlretrieve(url, filename)\n",
    "    \n",
    "    except Exception as e:\n",
    "        print(\"Error: \", e)"
   ]
  },
  {
   "cell_type": "code",
   "execution_count": 11,
   "metadata": {},
   "outputs": [
    {
     "ename": "KeyboardInterrupt",
     "evalue": "",
     "output_type": "error",
     "traceback": [
      "\u001b[1;31m---------------------------------------------------------------------------\u001b[0m",
      "\u001b[1;31mKeyboardInterrupt\u001b[0m                         Traceback (most recent call last)",
      "Cell \u001b[1;32mIn[11], line 3\u001b[0m\n\u001b[0;32m      1\u001b[0m \u001b[38;5;66;03m# Chamando a função para extrair os dados de 2018 a 2023\u001b[39;00m\n\u001b[1;32m----> 3\u001b[0m \u001b[43mextract_data\u001b[49m\u001b[43m(\u001b[49m\u001b[38;5;124;43m'\u001b[39;49m\u001b[38;5;124;43mhttps://data.boston.gov/dataset/8048697b-ad64-4bfc-b090-ee00169f2323/resource/ea2e4696-4a2d-429c-9807-d02eb92e0222/download/tmpcje3ep_w.csv\u001b[39;49m\u001b[38;5;124;43m'\u001b[39;49m\u001b[43m,\u001b[49m\u001b[43m \u001b[49m\u001b[38;5;124;43m'\u001b[39;49m\u001b[38;5;124;43m../data/dados_2019.csv\u001b[39;49m\u001b[38;5;124;43m'\u001b[39;49m\u001b[43m)\u001b[49m\n\u001b[0;32m      4\u001b[0m extract_data(\u001b[38;5;124m'\u001b[39m\u001b[38;5;124mhttps://data.boston.gov/dataset/8048697b-ad64-4bfc-b090-ee00169f2323/resource/6ff6a6fd-3141-4440-a880-6f60a37fe789/download/tmpcv_10m2s.csv\u001b[39m\u001b[38;5;124m'\u001b[39m, \u001b[38;5;124m'\u001b[39m\u001b[38;5;124m../data/dados_2020.csv\u001b[39m\u001b[38;5;124m'\u001b[39m)\n\u001b[0;32m      5\u001b[0m extract_data(\u001b[38;5;124m'\u001b[39m\u001b[38;5;124mhttps://data.boston.gov/dataset/8048697b-ad64-4bfc-b090-ee00169f2323/resource/f53ebccd-bc61-49f9-83db-625f209c95f5/download/tmp88p9g82n.csv\u001b[39m\u001b[38;5;124m'\u001b[39m, \u001b[38;5;124m'\u001b[39m\u001b[38;5;124m../data/dados_2021.csv\u001b[39m\u001b[38;5;124m'\u001b[39m)\n",
      "Cell \u001b[1;32mIn[10], line 5\u001b[0m, in \u001b[0;36mextract_data\u001b[1;34m(url, filename)\u001b[0m\n\u001b[0;32m      3\u001b[0m \u001b[38;5;28;01mdef\u001b[39;00m \u001b[38;5;21mextract_data\u001b[39m(url, filename):\n\u001b[0;32m      4\u001b[0m     \u001b[38;5;28;01mtry\u001b[39;00m:\n\u001b[1;32m----> 5\u001b[0m         \u001b[43murllib\u001b[49m\u001b[38;5;241;43m.\u001b[39;49m\u001b[43mrequest\u001b[49m\u001b[38;5;241;43m.\u001b[39;49m\u001b[43murlretrieve\u001b[49m\u001b[43m(\u001b[49m\u001b[43murl\u001b[49m\u001b[43m,\u001b[49m\u001b[43m \u001b[49m\u001b[43mfilename\u001b[49m\u001b[43m)\u001b[49m\n\u001b[0;32m      7\u001b[0m     \u001b[38;5;28;01mexcept\u001b[39;00m \u001b[38;5;167;01mException\u001b[39;00m \u001b[38;5;28;01mas\u001b[39;00m e:\n\u001b[0;32m      8\u001b[0m         \u001b[38;5;28mprint\u001b[39m(\u001b[38;5;124m\"\u001b[39m\u001b[38;5;124mError: \u001b[39m\u001b[38;5;124m\"\u001b[39m, e)\n",
      "File \u001b[1;32mc:\\Users\\prado\\AppData\\Local\\Programs\\Python\\Python310\\lib\\urllib\\request.py:270\u001b[0m, in \u001b[0;36murlretrieve\u001b[1;34m(url, filename, reporthook, data)\u001b[0m\n\u001b[0;32m    267\u001b[0m     reporthook(blocknum, bs, size)\n\u001b[0;32m    269\u001b[0m \u001b[38;5;28;01mwhile\u001b[39;00m \u001b[38;5;28;01mTrue\u001b[39;00m:\n\u001b[1;32m--> 270\u001b[0m     block \u001b[38;5;241m=\u001b[39m \u001b[43mfp\u001b[49m\u001b[38;5;241;43m.\u001b[39;49m\u001b[43mread\u001b[49m\u001b[43m(\u001b[49m\u001b[43mbs\u001b[49m\u001b[43m)\u001b[49m\n\u001b[0;32m    271\u001b[0m     \u001b[38;5;28;01mif\u001b[39;00m \u001b[38;5;129;01mnot\u001b[39;00m block:\n\u001b[0;32m    272\u001b[0m         \u001b[38;5;28;01mbreak\u001b[39;00m\n",
      "File \u001b[1;32mc:\\Users\\prado\\AppData\\Local\\Programs\\Python\\Python310\\lib\\http\\client.py:466\u001b[0m, in \u001b[0;36mHTTPResponse.read\u001b[1;34m(self, amt)\u001b[0m\n\u001b[0;32m    463\u001b[0m \u001b[38;5;28;01mif\u001b[39;00m \u001b[38;5;28mself\u001b[39m\u001b[38;5;241m.\u001b[39mlength \u001b[38;5;129;01mis\u001b[39;00m \u001b[38;5;129;01mnot\u001b[39;00m \u001b[38;5;28;01mNone\u001b[39;00m \u001b[38;5;129;01mand\u001b[39;00m amt \u001b[38;5;241m>\u001b[39m \u001b[38;5;28mself\u001b[39m\u001b[38;5;241m.\u001b[39mlength:\n\u001b[0;32m    464\u001b[0m     \u001b[38;5;66;03m# clip the read to the \"end of response\"\u001b[39;00m\n\u001b[0;32m    465\u001b[0m     amt \u001b[38;5;241m=\u001b[39m \u001b[38;5;28mself\u001b[39m\u001b[38;5;241m.\u001b[39mlength\n\u001b[1;32m--> 466\u001b[0m s \u001b[38;5;241m=\u001b[39m \u001b[38;5;28;43mself\u001b[39;49m\u001b[38;5;241;43m.\u001b[39;49m\u001b[43mfp\u001b[49m\u001b[38;5;241;43m.\u001b[39;49m\u001b[43mread\u001b[49m\u001b[43m(\u001b[49m\u001b[43mamt\u001b[49m\u001b[43m)\u001b[49m\n\u001b[0;32m    467\u001b[0m \u001b[38;5;28;01mif\u001b[39;00m \u001b[38;5;129;01mnot\u001b[39;00m s \u001b[38;5;129;01mand\u001b[39;00m amt:\n\u001b[0;32m    468\u001b[0m     \u001b[38;5;66;03m# Ideally, we would raise IncompleteRead if the content-length\u001b[39;00m\n\u001b[0;32m    469\u001b[0m     \u001b[38;5;66;03m# wasn't satisfied, but it might break compatibility.\u001b[39;00m\n\u001b[0;32m    470\u001b[0m     \u001b[38;5;28mself\u001b[39m\u001b[38;5;241m.\u001b[39m_close_conn()\n",
      "File \u001b[1;32mc:\\Users\\prado\\AppData\\Local\\Programs\\Python\\Python310\\lib\\socket.py:705\u001b[0m, in \u001b[0;36mSocketIO.readinto\u001b[1;34m(self, b)\u001b[0m\n\u001b[0;32m    703\u001b[0m \u001b[38;5;28;01mwhile\u001b[39;00m \u001b[38;5;28;01mTrue\u001b[39;00m:\n\u001b[0;32m    704\u001b[0m     \u001b[38;5;28;01mtry\u001b[39;00m:\n\u001b[1;32m--> 705\u001b[0m         \u001b[38;5;28;01mreturn\u001b[39;00m \u001b[38;5;28;43mself\u001b[39;49m\u001b[38;5;241;43m.\u001b[39;49m\u001b[43m_sock\u001b[49m\u001b[38;5;241;43m.\u001b[39;49m\u001b[43mrecv_into\u001b[49m\u001b[43m(\u001b[49m\u001b[43mb\u001b[49m\u001b[43m)\u001b[49m\n\u001b[0;32m    706\u001b[0m     \u001b[38;5;28;01mexcept\u001b[39;00m timeout:\n\u001b[0;32m    707\u001b[0m         \u001b[38;5;28mself\u001b[39m\u001b[38;5;241m.\u001b[39m_timeout_occurred \u001b[38;5;241m=\u001b[39m \u001b[38;5;28;01mTrue\u001b[39;00m\n",
      "File \u001b[1;32mc:\\Users\\prado\\AppData\\Local\\Programs\\Python\\Python310\\lib\\ssl.py:1274\u001b[0m, in \u001b[0;36mSSLSocket.recv_into\u001b[1;34m(self, buffer, nbytes, flags)\u001b[0m\n\u001b[0;32m   1270\u001b[0m     \u001b[38;5;28;01mif\u001b[39;00m flags \u001b[38;5;241m!=\u001b[39m \u001b[38;5;241m0\u001b[39m:\n\u001b[0;32m   1271\u001b[0m         \u001b[38;5;28;01mraise\u001b[39;00m \u001b[38;5;167;01mValueError\u001b[39;00m(\n\u001b[0;32m   1272\u001b[0m           \u001b[38;5;124m\"\u001b[39m\u001b[38;5;124mnon-zero flags not allowed in calls to recv_into() on \u001b[39m\u001b[38;5;132;01m%s\u001b[39;00m\u001b[38;5;124m\"\u001b[39m \u001b[38;5;241m%\u001b[39m\n\u001b[0;32m   1273\u001b[0m           \u001b[38;5;28mself\u001b[39m\u001b[38;5;241m.\u001b[39m\u001b[38;5;18m__class__\u001b[39m)\n\u001b[1;32m-> 1274\u001b[0m     \u001b[38;5;28;01mreturn\u001b[39;00m \u001b[38;5;28;43mself\u001b[39;49m\u001b[38;5;241;43m.\u001b[39;49m\u001b[43mread\u001b[49m\u001b[43m(\u001b[49m\u001b[43mnbytes\u001b[49m\u001b[43m,\u001b[49m\u001b[43m \u001b[49m\u001b[43mbuffer\u001b[49m\u001b[43m)\u001b[49m\n\u001b[0;32m   1275\u001b[0m \u001b[38;5;28;01melse\u001b[39;00m:\n\u001b[0;32m   1276\u001b[0m     \u001b[38;5;28;01mreturn\u001b[39;00m \u001b[38;5;28msuper\u001b[39m()\u001b[38;5;241m.\u001b[39mrecv_into(buffer, nbytes, flags)\n",
      "File \u001b[1;32mc:\\Users\\prado\\AppData\\Local\\Programs\\Python\\Python310\\lib\\ssl.py:1130\u001b[0m, in \u001b[0;36mSSLSocket.read\u001b[1;34m(self, len, buffer)\u001b[0m\n\u001b[0;32m   1128\u001b[0m \u001b[38;5;28;01mtry\u001b[39;00m:\n\u001b[0;32m   1129\u001b[0m     \u001b[38;5;28;01mif\u001b[39;00m buffer \u001b[38;5;129;01mis\u001b[39;00m \u001b[38;5;129;01mnot\u001b[39;00m \u001b[38;5;28;01mNone\u001b[39;00m:\n\u001b[1;32m-> 1130\u001b[0m         \u001b[38;5;28;01mreturn\u001b[39;00m \u001b[38;5;28;43mself\u001b[39;49m\u001b[38;5;241;43m.\u001b[39;49m\u001b[43m_sslobj\u001b[49m\u001b[38;5;241;43m.\u001b[39;49m\u001b[43mread\u001b[49m\u001b[43m(\u001b[49m\u001b[38;5;28;43mlen\u001b[39;49m\u001b[43m,\u001b[49m\u001b[43m \u001b[49m\u001b[43mbuffer\u001b[49m\u001b[43m)\u001b[49m\n\u001b[0;32m   1131\u001b[0m     \u001b[38;5;28;01melse\u001b[39;00m:\n\u001b[0;32m   1132\u001b[0m         \u001b[38;5;28;01mreturn\u001b[39;00m \u001b[38;5;28mself\u001b[39m\u001b[38;5;241m.\u001b[39m_sslobj\u001b[38;5;241m.\u001b[39mread(\u001b[38;5;28mlen\u001b[39m)\n",
      "\u001b[1;31mKeyboardInterrupt\u001b[0m: "
     ]
    }
   ],
   "source": [
    "# Chamando a função para extrair os dados de 2018 a 2023\n",
    "\n",
    "extract_data('https://data.boston.gov/dataset/8048697b-ad64-4bfc-b090-ee00169f2323/resource/ea2e4696-4a2d-429c-9807-d02eb92e0222/download/tmpcje3ep_w.csv', '../data/dados_2019.csv')\n",
    "extract_data('https://data.boston.gov/dataset/8048697b-ad64-4bfc-b090-ee00169f2323/resource/6ff6a6fd-3141-4440-a880-6f60a37fe789/download/tmpcv_10m2s.csv', '../data/dados_2020.csv')\n",
    "extract_data('https://data.boston.gov/dataset/8048697b-ad64-4bfc-b090-ee00169f2323/resource/f53ebccd-bc61-49f9-83db-625f209c95f5/download/tmp88p9g82n.csv', '../data/dados_2021.csv')\n",
    "extract_data('https://data.boston.gov/dataset/8048697b-ad64-4bfc-b090-ee00169f2323/resource/81a7b022-f8fc-4da5-80e4-b160058ca207/download/tmpfm8veglw.csv', '../data/dados_2022.csv')\n",
    "extract_data('https://data.boston.gov/dataset/8048697b-ad64-4bfc-b090-ee00169f2323/resource/e6013a93-1321-4f2a-bf91-8d8a02f1e62f/download/tmp182oee02.csv', '../data/dados_2023.csv')"
   ]
  },
  {
   "cell_type": "code",
   "execution_count": 12,
   "metadata": {},
   "outputs": [],
   "source": [
    "# Criando a lista com os arquivos extraídos do site para serem usados na função de leitura\n",
    "\n",
    "arquivos = ['../data/dados_2019.csv', '../data/dados_2020.csv', '../data/dados_2021.csv', '../data/dados_2022.csv', '../data/dados_2023.csv']"
   ]
  },
  {
   "cell_type": "code",
   "execution_count": 13,
   "metadata": {},
   "outputs": [
    {
     "name": "stderr",
     "output_type": "stream",
     "text": [
      "C:\\Users\\prado\\AppData\\Roaming\\Python\\Python310\\site-packages\\IPython\\core\\interactiveshell.py:3508: DtypeWarning: Columns (13) have mixed types.Specify dtype option on import or set low_memory=False.\n",
      "  exec(code_obj, self.user_global_ns, self.user_ns)\n"
     ]
    }
   ],
   "source": [
    "# Criando um dicionário para armazenar os dataframes de cada arquivo com o ano como chave do dicionário\n",
    "\n",
    "df = {}\n",
    "\n",
    "for arquivo in arquivos:\n",
    "    ano = arquivo.split('_')[-1].split('.')[0] # Pega o ano do arquivo para usar como chave no dicionário\n",
    "    df[ano] = pd.read_csv(arquivo)"
   ]
  },
  {
   "cell_type": "code",
   "execution_count": 14,
   "metadata": {},
   "outputs": [
    {
     "data": {
      "text/html": [
       "<div>\n",
       "<style scoped>\n",
       "    .dataframe tbody tr th:only-of-type {\n",
       "        vertical-align: middle;\n",
       "    }\n",
       "\n",
       "    .dataframe tbody tr th {\n",
       "        vertical-align: top;\n",
       "    }\n",
       "\n",
       "    .dataframe thead th {\n",
       "        text-align: right;\n",
       "    }\n",
       "</style>\n",
       "<table border=\"1\" class=\"dataframe\">\n",
       "  <thead>\n",
       "    <tr style=\"text-align: right;\">\n",
       "      <th></th>\n",
       "      <th>case_enquiry_id</th>\n",
       "      <th>open_dt</th>\n",
       "      <th>sla_target_dt</th>\n",
       "      <th>closed_dt</th>\n",
       "      <th>on_time</th>\n",
       "      <th>case_status</th>\n",
       "      <th>closure_reason</th>\n",
       "      <th>case_title</th>\n",
       "      <th>subject</th>\n",
       "      <th>reason</th>\n",
       "      <th>...</th>\n",
       "      <th>neighborhood</th>\n",
       "      <th>neighborhood_services_district</th>\n",
       "      <th>ward</th>\n",
       "      <th>precinct</th>\n",
       "      <th>location_street_name</th>\n",
       "      <th>location_zipcode</th>\n",
       "      <th>latitude</th>\n",
       "      <th>longitude</th>\n",
       "      <th>geom_4326</th>\n",
       "      <th>source</th>\n",
       "    </tr>\n",
       "  </thead>\n",
       "  <tbody>\n",
       "    <tr>\n",
       "      <th>0</th>\n",
       "      <td>101002767874</td>\n",
       "      <td>2019-01-01 00:03:00</td>\n",
       "      <td>2019-01-03 03:30:00</td>\n",
       "      <td>2019-01-01 02:59:43</td>\n",
       "      <td>ONTIME</td>\n",
       "      <td>Closed</td>\n",
       "      <td>Case Closed. Closed date : 2019-01-01 07:59:43...</td>\n",
       "      <td>PRINTED : Knocked down/Eric Huynh</td>\n",
       "      <td>Public Works Department</td>\n",
       "      <td>Street Lights</td>\n",
       "      <td>...</td>\n",
       "      <td>Roxbury</td>\n",
       "      <td>13</td>\n",
       "      <td>Ward 14</td>\n",
       "      <td>1401</td>\n",
       "      <td>192 Magnolia St</td>\n",
       "      <td>2121.0</td>\n",
       "      <td>42.311990</td>\n",
       "      <td>-71.073181</td>\n",
       "      <td>0101000020E610000065AD9DFDAEC451C0051BFB45EF27...</td>\n",
       "      <td>Constituent Call</td>\n",
       "    </tr>\n",
       "    <tr>\n",
       "      <th>1</th>\n",
       "      <td>101002767875</td>\n",
       "      <td>2019-01-01 00:17:00</td>\n",
       "      <td>NaN</td>\n",
       "      <td>2019-11-24 08:48:34</td>\n",
       "      <td>ONTIME</td>\n",
       "      <td>Closed</td>\n",
       "      <td>Case Closed. Closed date : 2019-11-24 13:48:34...</td>\n",
       "      <td>Fire Hydrant</td>\n",
       "      <td>Boston Water &amp; Sewer Commission</td>\n",
       "      <td>Fire Hydrant</td>\n",
       "      <td>...</td>\n",
       "      <td>Back Bay</td>\n",
       "      <td>14</td>\n",
       "      <td>5</td>\n",
       "      <td>0505</td>\n",
       "      <td>INTERSECTION Beaver St &amp; Beacon St</td>\n",
       "      <td>NaN</td>\n",
       "      <td>42.355555</td>\n",
       "      <td>-71.072049</td>\n",
       "      <td>0101000020E61000001A659F739CC451C0516121D7822D...</td>\n",
       "      <td>Constituent Call</td>\n",
       "    </tr>\n",
       "    <tr>\n",
       "      <th>2</th>\n",
       "      <td>101002767877</td>\n",
       "      <td>2019-01-01 00:31:51</td>\n",
       "      <td>2019-01-03 03:30:00</td>\n",
       "      <td>2019-01-01 21:27:40</td>\n",
       "      <td>ONTIME</td>\n",
       "      <td>Closed</td>\n",
       "      <td>Case Closed. Closed date : 2019-01-02 02:27:40...</td>\n",
       "      <td>Parking Enforcement</td>\n",
       "      <td>Transportation - Traffic Division</td>\n",
       "      <td>Enforcement &amp; Abandoned Vehicles</td>\n",
       "      <td>...</td>\n",
       "      <td>Boston</td>\n",
       "      <td>3</td>\n",
       "      <td>03</td>\n",
       "      <td></td>\n",
       "      <td>35 Fruit St</td>\n",
       "      <td>2114.0</td>\n",
       "      <td>42.362755</td>\n",
       "      <td>-71.069185</td>\n",
       "      <td>0101000020E61000009E8A6A866DC451C0F2243BBF6E2E...</td>\n",
       "      <td>Citizens Connect App</td>\n",
       "    </tr>\n",
       "    <tr>\n",
       "      <th>3</th>\n",
       "      <td>101002767878</td>\n",
       "      <td>2019-01-01 00:42:00</td>\n",
       "      <td>NaN</td>\n",
       "      <td>2019-05-17 08:33:13</td>\n",
       "      <td>ONTIME</td>\n",
       "      <td>Closed</td>\n",
       "      <td>Case Closed. Closed date : 2019-05-17 12:33:13...</td>\n",
       "      <td>Police: Full Notifications</td>\n",
       "      <td>Mayor's 24 Hour Hotline</td>\n",
       "      <td>Notification</td>\n",
       "      <td>...</td>\n",
       "      <td>Dorchester</td>\n",
       "      <td>8</td>\n",
       "      <td>Ward 15</td>\n",
       "      <td>1503</td>\n",
       "      <td>35-37 Clarkson St</td>\n",
       "      <td>2125.0</td>\n",
       "      <td>42.308930</td>\n",
       "      <td>-71.066961</td>\n",
       "      <td>0101000020E61000007301041549C451C010DDC5008B27...</td>\n",
       "      <td>Constituent Call</td>\n",
       "    </tr>\n",
       "    <tr>\n",
       "      <th>4</th>\n",
       "      <td>101002767879</td>\n",
       "      <td>2019-01-01 01:09:12</td>\n",
       "      <td>2019-01-03 03:30:00</td>\n",
       "      <td>2019-01-01 21:28:11</td>\n",
       "      <td>ONTIME</td>\n",
       "      <td>Closed</td>\n",
       "      <td>Case Closed. Closed date : 2019-01-02 02:28:11...</td>\n",
       "      <td>Parking Enforcement</td>\n",
       "      <td>Transportation - Traffic Division</td>\n",
       "      <td>Enforcement &amp; Abandoned Vehicles</td>\n",
       "      <td>...</td>\n",
       "      <td>East Boston</td>\n",
       "      <td>1</td>\n",
       "      <td>Ward 1</td>\n",
       "      <td>0109</td>\n",
       "      <td>196 Trenton St</td>\n",
       "      <td>2128.0</td>\n",
       "      <td>42.380799</td>\n",
       "      <td>-71.031970</td>\n",
       "      <td>0101000020E6100000DAA350CD0BC251C0A6639A09BE30...</td>\n",
       "      <td>Citizens Connect App</td>\n",
       "    </tr>\n",
       "  </tbody>\n",
       "</table>\n",
       "<p>5 rows × 30 columns</p>\n",
       "</div>"
      ],
      "text/plain": [
       "   case_enquiry_id              open_dt        sla_target_dt  \\\n",
       "0     101002767874  2019-01-01 00:03:00  2019-01-03 03:30:00   \n",
       "1     101002767875  2019-01-01 00:17:00                  NaN   \n",
       "2     101002767877  2019-01-01 00:31:51  2019-01-03 03:30:00   \n",
       "3     101002767878  2019-01-01 00:42:00                  NaN   \n",
       "4     101002767879  2019-01-01 01:09:12  2019-01-03 03:30:00   \n",
       "\n",
       "             closed_dt on_time case_status  \\\n",
       "0  2019-01-01 02:59:43  ONTIME      Closed   \n",
       "1  2019-11-24 08:48:34  ONTIME      Closed   \n",
       "2  2019-01-01 21:27:40  ONTIME      Closed   \n",
       "3  2019-05-17 08:33:13  ONTIME      Closed   \n",
       "4  2019-01-01 21:28:11  ONTIME      Closed   \n",
       "\n",
       "                                      closure_reason  \\\n",
       "0  Case Closed. Closed date : 2019-01-01 07:59:43...   \n",
       "1  Case Closed. Closed date : 2019-11-24 13:48:34...   \n",
       "2  Case Closed. Closed date : 2019-01-02 02:27:40...   \n",
       "3  Case Closed. Closed date : 2019-05-17 12:33:13...   \n",
       "4  Case Closed. Closed date : 2019-01-02 02:28:11...   \n",
       "\n",
       "                          case_title                            subject  \\\n",
       "0  PRINTED : Knocked down/Eric Huynh            Public Works Department   \n",
       "1                       Fire Hydrant    Boston Water & Sewer Commission   \n",
       "2                Parking Enforcement  Transportation - Traffic Division   \n",
       "3         Police: Full Notifications            Mayor's 24 Hour Hotline   \n",
       "4                Parking Enforcement  Transportation - Traffic Division   \n",
       "\n",
       "                             reason  ... neighborhood  \\\n",
       "0                     Street Lights  ...      Roxbury   \n",
       "1                      Fire Hydrant  ...     Back Bay   \n",
       "2  Enforcement & Abandoned Vehicles  ...       Boston   \n",
       "3                      Notification  ...   Dorchester   \n",
       "4  Enforcement & Abandoned Vehicles  ...  East Boston   \n",
       "\n",
       "  neighborhood_services_district     ward  precinct  \\\n",
       "0                             13  Ward 14      1401   \n",
       "1                             14        5      0505   \n",
       "2                              3       03             \n",
       "3                              8  Ward 15      1503   \n",
       "4                              1   Ward 1      0109   \n",
       "\n",
       "                 location_street_name location_zipcode   latitude  longitude  \\\n",
       "0                     192 Magnolia St           2121.0  42.311990 -71.073181   \n",
       "1  INTERSECTION Beaver St & Beacon St              NaN  42.355555 -71.072049   \n",
       "2                         35 Fruit St           2114.0  42.362755 -71.069185   \n",
       "3                   35-37 Clarkson St           2125.0  42.308930 -71.066961   \n",
       "4                      196 Trenton St           2128.0  42.380799 -71.031970   \n",
       "\n",
       "                                           geom_4326                source  \n",
       "0  0101000020E610000065AD9DFDAEC451C0051BFB45EF27...      Constituent Call  \n",
       "1  0101000020E61000001A659F739CC451C0516121D7822D...      Constituent Call  \n",
       "2  0101000020E61000009E8A6A866DC451C0F2243BBF6E2E...  Citizens Connect App  \n",
       "3  0101000020E61000007301041549C451C010DDC5008B27...      Constituent Call  \n",
       "4  0101000020E6100000DAA350CD0BC251C0A6639A09BE30...  Citizens Connect App  \n",
       "\n",
       "[5 rows x 30 columns]"
      ]
     },
     "execution_count": 14,
     "metadata": {},
     "output_type": "execute_result"
    }
   ],
   "source": [
    "# Exibindo os primeiros registros de cada dataframe\n",
    " \n",
    "df['2019'].head()"
   ]
  },
  {
   "cell_type": "markdown",
   "metadata": {},
   "source": [
    "__________________"
   ]
  },
  {
   "cell_type": "markdown",
   "metadata": {},
   "source": [
    "#### Conectando com a conta de armazenamento da AWS"
   ]
  },
  {
   "cell_type": "code",
   "execution_count": 4,
   "metadata": {},
   "outputs": [],
   "source": [
    "import os\n",
    "from dotenv import load_dotenv\n",
    "\n",
    "load_dotenv()\n",
    "\n",
    "access_key = os.getenv('AWS_ACCESS_KEY_ID')\n",
    "secret_key = os.getenv('AWS_SECRET_ACCESS_KEY')"
   ]
  },
  {
   "cell_type": "code",
   "execution_count": 5,
   "metadata": {},
   "outputs": [],
   "source": [
    "import boto3\n",
    "\n",
    "aws_access_key_id = access_key # Chave de acesso da AWS\n",
    "aws_secret_access_key = secret_key # Chave secreta da AWS\n",
    "region_name = 'us-east-1' # Região da AWS\n",
    "\n",
    "\n",
    "boto3.setup_default_session(aws_access_key_id=aws_access_key_id, \n",
    "                            aws_secret_access_key=aws_secret_access_key,\n",
    "                            region_name=region_name) # Configuração da sessão da AWS com as chaves de acesso e a região\n",
    "\n",
    "s3 = boto3.client('s3') # Cliente do S3 para acessar os métodos da AWS"
   ]
  },
  {
   "cell_type": "code",
   "execution_count": 6,
   "metadata": {},
   "outputs": [],
   "source": [
    "conteudo = 'Testando colocando as chaves de acesso em variaveis de ambiente' # Conteúdo do arquivo teste a ser salvo no S3\n",
    "\n",
    "with open('../data/testando-novamente.txt', 'w') as f:\n",
    "    f.write(conteudo) # Escreve o conteúdo no arquivo teste.txt"
   ]
  },
  {
   "cell_type": "code",
   "execution_count": 7,
   "metadata": {},
   "outputs": [],
   "source": [
    "s3.upload_file('../data/testando-novamente.txt', 'datalake-estudos', 'bronze-camada/teste-arquivo-variaveis') # Faz o upload do arquivo teste.txt para o bucket teste-arquivo"
   ]
  },
  {
   "cell_type": "markdown",
   "metadata": {},
   "source": [
    "_____"
   ]
  },
  {
   "cell_type": "markdown",
   "metadata": {},
   "source": [
    "#### Convertendo os arquivos para o formato **parquet**"
   ]
  },
  {
   "cell_type": "code",
   "execution_count": 15,
   "metadata": {},
   "outputs": [],
   "source": [
    "from io import BytesIO\n",
    "\n",
    "for ano, df in df.items():\n",
    "    parquet_buffer = BytesIO() # Buffer para armazenar o arquivo parquet a ser salvo no S3\n",
    "    df.to_parquet(parquet_buffer) # Salva o dataframe no buffer como arquivo parquet\n",
    "\n",
    "    s3.put_object(Bucket='datalake-estudos',\n",
    "                  Key=f'bronze-camada/dados-{ano}.parquet',\n",
    "                  Body=parquet_buffer.getvalue()) # Salva o arquivo parquet no S3"
   ]
  },
  {
   "cell_type": "code",
   "execution_count": 16,
   "metadata": {},
   "outputs": [],
   "source": [
    "response = s3.list_objects(Bucket='datalake-estudos', Prefix='bronze-camada/') # Lista os objetos do bucket bronze-camada"
   ]
  },
  {
   "cell_type": "code",
   "execution_count": 18,
   "metadata": {},
   "outputs": [
    {
     "name": "stdout",
     "output_type": "stream",
     "text": [
      "['bronze-camada/', 'bronze-camada/dados-2019.parquet', 'bronze-camada/dados-2020.parquet', 'bronze-camada/dados-2021.parquet', 'bronze-camada/dados-2022.parquet', 'bronze-camada/dados-2023.parquet', 'bronze-camada/teste-arquivo', 'bronze-camada/teste-arquivo-variaveis']\n"
     ]
    }
   ],
   "source": [
    "keys = [content['Key'] for content in response['Contents']] # Pega os nomes dos arquivos do bucket\n",
    "print(keys) # Exibe os nomes dos arquivos do bucket"
   ]
  }
 ],
 "metadata": {
  "kernelspec": {
   "display_name": "Python 3",
   "language": "python",
   "name": "python3"
  },
  "language_info": {
   "codemirror_mode": {
    "name": "ipython",
    "version": 3
   },
   "file_extension": ".py",
   "mimetype": "text/x-python",
   "name": "python",
   "nbconvert_exporter": "python",
   "pygments_lexer": "ipython3",
   "version": "3.10.11"
  }
 },
 "nbformat": 4,
 "nbformat_minor": 2
}
